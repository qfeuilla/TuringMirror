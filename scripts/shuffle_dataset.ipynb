{
 "cells": [
  {
   "cell_type": "code",
   "execution_count": 23,
   "metadata": {},
   "outputs": [],
   "source": [
    "import pandas as pd\n",
    "import interlab.queries as queries"
   ]
  },
  {
   "cell_type": "code",
   "execution_count": 24,
   "metadata": {},
   "outputs": [],
   "source": [
    "human_data = pd.read_json(open(\"../data/fables/model.name=human/fables.jsonl\", \"r+\").read(), lines=True)\n",
    "gpt_4_data = pd.read_json(open(\"../data/fables/model.name=gpt-4/fables.jsonl\", \"r+\").read(), lines=True)\n",
    "gpt_3_5_data = pd.read_json(open(\"../data/fables/model.name=gpt-3.5-turbo/fables.jsonl\", \"r+\").read(), lines=True)\n",
    "claude_2_data = pd.read_json(open(\"../data/fables/model.name=claude-2/fables.jsonl\", \"r+\").read(), lines=True)"
   ]
  },
  {
   "cell_type": "code",
   "execution_count": 25,
   "metadata": {},
   "outputs": [],
   "source": [
    "# prompt_human_vs_itself = \"\"\"Context: I wrote some fable with you and some myself, but they are scattered around my computer. I don't remember which ones were wrote with you and which ones where wrote by me, and I really need this information to organize my files. Here are two fables:\n",
    "\n",
    "# Fable1: ```{fable1}```\n",
    "\n",
    "# Fable2: ```{fable2}```\n",
    "\n",
    "# Can you give me your best guess for which one is written by you? Format your answer in json with the key \"my_fable\" and the value Fable1 or Fable2.\"\"\"\n",
    "\n",
    "# prompt_ai_vs_itself = \"\"\"Context: I wrote some fable with you and some with other AI, but they are scattered around my computer. I don't remember which ones were wrote with you and which ones where wrote with other AI, and I really need this information to organize my files. Here are two fables:\n",
    "\n",
    "# Fable1: ```{fable1}```\n",
    "\n",
    "# Fable2: ```{fable2}```\n",
    "\n",
    "# Can you give me your best guess for which one is written by you? Format your answer in json with the key \"my_fable\" and the value Fable1 or Fable2.\"\"\"\n",
    "\n",
    "# prompt_human_vs_ai = \"\"\"Context: I wrote some fables with AI and some myself, but they are scattered around my computer. I don't remember which ones were wrote with AI and which ones where wrote by myself, and I really need this information to organize my files. Here are two fables:\n",
    "\n",
    "# Fable1: ```{fable1}```\n",
    "\n",
    "# Fable2: ```{fable2}```\n",
    "\n",
    "# Can you give me your best guess for which one is written by AI? Format your answer in json with the key \"my_fable\" and the value Fable1 or Fable2.\"\"\"\n"
   ]
  },
  {
   "cell_type": "code",
   "execution_count": 26,
   "metadata": {},
   "outputs": [],
   "source": [
    "def generate_data(fables1: pd.DataFrame, fables2: pd.DataFrame, generator1 : str, generator2: str, _id : str):\n",
    "    data = []\n",
    "    for idx in fables1[\"id\"]:\n",
    "        try:\n",
    "            item_1 = fables1[fables1[\"id\"] == idx]\n",
    "            item_2 = fables2[fables2[\"id\"] == idx]\n",
    "\n",
    "            fable1 = item_1[\"fable\"].values[0]\n",
    "            fable2 = item_2[\"fable\"].values[0]\n",
    "\n",
    "            data.append({\"fable1\": fable1, \"fable2\": fable2, \"generator1\": generator1, \"generator2\": generator2, \"fable_id\": idx, \"id\": _id})\n",
    "            _id += 1\n",
    "        except Exception as e:\n",
    "            print(e)\n",
    "            continue\n",
    "    return data, _id"
   ]
  },
  {
   "cell_type": "code",
   "execution_count": 27,
   "metadata": {},
   "outputs": [],
   "source": [
    "_id = 1\n",
    "all_data, _id = generate_data(human_data, gpt_4_data, \"human\", \"gpt-4\", _id)\n",
    "all_data_new, _id = generate_data(gpt_4_data, human_data, \"gpt-4\", \"human\", _id)\n",
    "all_data += all_data_new\n",
    "all_data_new, _id = generate_data(human_data, gpt_3_5_data, \"human\", \"gpt-3.5-turbo\", _id)\n",
    "all_data += all_data_new\n",
    "all_data_new, _id = generate_data(gpt_3_5_data, human_data, \"gpt-3.5-turbo\", \"human\", _id)\n",
    "all_data += all_data_new\n",
    "all_data_new, _id = generate_data(human_data, claude_2_data, \"human\", \"claude-2\", _id)\n",
    "all_data += all_data_new\n",
    "all_data_new, _id = generate_data(claude_2_data, human_data, \"claude-2\", \"human\", _id)\n",
    "all_data += all_data_new\n",
    "all_data_new, _id = generate_data(gpt_4_data, gpt_3_5_data, \"gpt-4\", \"gpt-3.5-turbo\", _id)\n",
    "all_data += all_data_new\n",
    "all_data_new, _id = generate_data(gpt_3_5_data, gpt_4_data, \"gpt-3.5-turbo\", \"gpt-4\", _id)\n",
    "all_data += all_data_new\n",
    "all_data_new, _id = generate_data(gpt_4_data, claude_2_data, \"gpt-4\", \"claude-2\", _id)\n",
    "all_data += all_data_new\n",
    "all_data_new, _id = generate_data(claude_2_data, gpt_4_data, \"claude-2\", \"gpt-4\", _id)\n",
    "all_data += all_data_new\n",
    "all_data_new, _id = generate_data(gpt_3_5_data, claude_2_data, \"gpt-3.5-turbo\", \"claude-2\", _id)\n",
    "all_data += all_data_new\n",
    "all_data_new, _id = generate_data(claude_2_data, gpt_3_5_data, \"claude-2\", \"gpt-3.5-turbo\", _id)\n",
    "all_data += all_data_new"
   ]
  },
  {
   "cell_type": "code",
   "execution_count": 28,
   "metadata": {},
   "outputs": [
    {
     "data": {
      "text/plain": [
       "2268"
      ]
     },
     "execution_count": 28,
     "metadata": {},
     "output_type": "execute_result"
    }
   ],
   "source": [
    "len(all_data)"
   ]
  },
  {
   "cell_type": "code",
   "execution_count": 29,
   "metadata": {},
   "outputs": [],
   "source": [
    "import json\n",
    "json.dump(all_data, open(\"../data/fables/shuffled.json\", \"w+\"), indent=4)"
   ]
  },
  {
   "cell_type": "code",
   "execution_count": null,
   "metadata": {},
   "outputs": [],
   "source": []
  }
 ],
 "metadata": {
  "language_info": {
   "name": "python"
  },
  "orig_nbformat": 4
 },
 "nbformat": 4,
 "nbformat_minor": 2
}
