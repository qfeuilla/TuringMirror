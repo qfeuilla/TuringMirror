{
 "cells": [
  {
   "cell_type": "code",
   "execution_count": 161,
   "id": "5c9b95a3-5091-4f5e-aa22-ec14afbb83cb",
   "metadata": {},
   "outputs": [],
   "source": [
    "from pathlib import Path"
   ]
  },
  {
   "cell_type": "code",
   "execution_count": 163,
   "id": "f5de4659-2dba-4b19-9e70-b51ffb2ac42f",
   "metadata": {},
   "outputs": [
    {
     "name": "stdout",
     "output_type": "stream",
     "text": [
      "5670 results_combined.jsonl\n"
     ]
    }
   ],
   "source": [
    "!cat results/**/results_corrected.jsonl > results_combined.jsonl\n",
    "!wc -l results_combined.jsonl"
   ]
  },
  {
   "cell_type": "code",
   "execution_count": 164,
   "id": "e89dbd86-6006-4d79-847b-c2accc52e075",
   "metadata": {},
   "outputs": [],
   "source": [
    "import pandas as pd\n",
    "data = pd.read_json(\"results_combined.jsonl\", lines=True)"
   ]
  },
  {
   "cell_type": "code",
   "execution_count": 165,
   "id": "2ebf2c82-4e89-49a7-84ea-b22b48a65505",
   "metadata": {},
   "outputs": [
    {
     "data": {
      "text/plain": [
       "predictor\n",
       "claude-2         1890\n",
       "gpt-3.5-turbo    1890\n",
       "gpt-4            1890\n",
       "Name: id, dtype: int64"
      ]
     },
     "execution_count": 165,
     "metadata": {},
     "output_type": "execute_result"
    }
   ],
   "source": [
    "data.groupby(\"predictor\").count()[\"id\"]"
   ]
  },
  {
   "cell_type": "code",
   "execution_count": 166,
   "id": "cad880ae-aed8-4686-a0ac-962b4ad4795d",
   "metadata": {},
   "outputs": [
    {
     "data": {
      "text/html": [
       "<div>\n",
       "<style scoped>\n",
       "    .dataframe tbody tr th:only-of-type {\n",
       "        vertical-align: middle;\n",
       "    }\n",
       "\n",
       "    .dataframe tbody tr th {\n",
       "        vertical-align: top;\n",
       "    }\n",
       "\n",
       "    .dataframe thead th {\n",
       "        text-align: right;\n",
       "    }\n",
       "</style>\n",
       "<table border=\"1\" class=\"dataframe\">\n",
       "  <thead>\n",
       "    <tr style=\"text-align: right;\">\n",
       "      <th></th>\n",
       "      <th></th>\n",
       "      <th></th>\n",
       "      <th>count</th>\n",
       "    </tr>\n",
       "    <tr>\n",
       "      <th>predictor</th>\n",
       "      <th>prediction</th>\n",
       "      <th>correct_prediction</th>\n",
       "      <th></th>\n",
       "    </tr>\n",
       "  </thead>\n",
       "  <tbody>\n",
       "    <tr>\n",
       "      <th rowspan=\"5\" valign=\"top\">claude-2</th>\n",
       "      <th rowspan=\"2\" valign=\"top\">fable1</th>\n",
       "      <th>fable1</th>\n",
       "      <td>104</td>\n",
       "    </tr>\n",
       "    <tr>\n",
       "      <th>fable2</th>\n",
       "      <td>102</td>\n",
       "    </tr>\n",
       "    <tr>\n",
       "      <th rowspan=\"2\" valign=\"top\">fable2</th>\n",
       "      <th>fable1</th>\n",
       "      <td>684</td>\n",
       "    </tr>\n",
       "    <tr>\n",
       "      <th>fable2</th>\n",
       "      <td>721</td>\n",
       "    </tr>\n",
       "    <tr>\n",
       "      <th>unknown</th>\n",
       "      <th>unknown</th>\n",
       "      <td>12</td>\n",
       "    </tr>\n",
       "    <tr>\n",
       "      <th rowspan=\"4\" valign=\"top\">gpt-3.5-turbo</th>\n",
       "      <th rowspan=\"2\" valign=\"top\">fable1</th>\n",
       "      <th>fable1</th>\n",
       "      <td>835</td>\n",
       "    </tr>\n",
       "    <tr>\n",
       "      <th>fable2</th>\n",
       "      <td>555</td>\n",
       "    </tr>\n",
       "    <tr>\n",
       "      <th rowspan=\"2\" valign=\"top\">fable2</th>\n",
       "      <th>fable1</th>\n",
       "      <td>110</td>\n",
       "    </tr>\n",
       "    <tr>\n",
       "      <th>fable2</th>\n",
       "      <td>390</td>\n",
       "    </tr>\n",
       "    <tr>\n",
       "      <th rowspan=\"6\" valign=\"top\">gpt-4</th>\n",
       "      <th rowspan=\"2\" valign=\"top\">fable1</th>\n",
       "      <th>fable1</th>\n",
       "      <td>210</td>\n",
       "    </tr>\n",
       "    <tr>\n",
       "      <th>fable2</th>\n",
       "      <td>463</td>\n",
       "    </tr>\n",
       "    <tr>\n",
       "      <th rowspan=\"2\" valign=\"top\">fable2</th>\n",
       "      <th>fable1</th>\n",
       "      <td>718</td>\n",
       "    </tr>\n",
       "    <tr>\n",
       "      <th>fable2</th>\n",
       "      <td>479</td>\n",
       "    </tr>\n",
       "    <tr>\n",
       "      <th>none</th>\n",
       "      <th>none</th>\n",
       "      <td>3</td>\n",
       "    </tr>\n",
       "    <tr>\n",
       "      <th>unknown</th>\n",
       "      <th>unknown</th>\n",
       "      <td>5</td>\n",
       "    </tr>\n",
       "  </tbody>\n",
       "</table>\n",
       "</div>"
      ],
      "text/plain": [
       "                                             count\n",
       "predictor     prediction correct_prediction       \n",
       "claude-2      fable1     fable1                104\n",
       "                         fable2                102\n",
       "              fable2     fable1                684\n",
       "                         fable2                721\n",
       "              unknown    unknown                12\n",
       "gpt-3.5-turbo fable1     fable1                835\n",
       "                         fable2                555\n",
       "              fable2     fable1                110\n",
       "                         fable2                390\n",
       "gpt-4         fable1     fable1                210\n",
       "                         fable2                463\n",
       "              fable2     fable1                718\n",
       "                         fable2                479\n",
       "              none       none                    3\n",
       "              unknown    unknown                 5"
      ]
     },
     "execution_count": 166,
     "metadata": {},
     "output_type": "execute_result"
    }
   ],
   "source": [
    "data.dropna().groupby([\"predictor\", \"prediction\", \"correct_prediction\", ])[\"prediction\"].agg([\"count\"])"
   ]
  },
  {
   "cell_type": "code",
   "execution_count": null,
   "id": "5ca9f7cd-a1a1-4ebe-85b9-35d470c1b240",
   "metadata": {},
   "outputs": [],
   "source": []
  }
 ],
 "metadata": {
  "kernelspec": {
   "display_name": "Python 3 (ipykernel)",
   "language": "python",
   "name": "python3"
  },
  "language_info": {
   "codemirror_mode": {
    "name": "ipython",
    "version": 3
   },
   "file_extension": ".py",
   "mimetype": "text/x-python",
   "name": "python",
   "nbconvert_exporter": "python",
   "pygments_lexer": "ipython3",
   "version": "3.10.12"
  }
 },
 "nbformat": 4,
 "nbformat_minor": 5
}
